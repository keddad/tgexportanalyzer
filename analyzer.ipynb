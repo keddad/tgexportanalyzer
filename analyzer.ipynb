{
 "cells": [
  {
   "cell_type": "code",
   "execution_count": 20,
   "outputs": [],
   "source": [
    "import json\n",
    "from pathlib import Path\n",
    "from datetime import datetime\n",
    "from functools import reduce\n",
    "from collections import Counter\n",
    "import pymorphy2"
   ],
   "metadata": {
    "collapsed": false,
    "pycharm": {
     "name": "#%%\n"
    }
   }
  },
  {
   "cell_type": "code",
   "execution_count": 31,
   "outputs": [],
   "source": [
    "raw_data = json.loads(Path(\"result.json\").read_text())\n",
    "morph = pymorphy2.MorphAnalyzer()\n",
    "user_msg_freq_by_hour = {}\n",
    "user_msg_type = {}\n",
    "user_msg_word_freq = {}\n",
    "user_msg_normalized_word_freq = {}\n",
    "user_msg_count = {}\n",
    "user_char_count = {}"
   ],
   "metadata": {
    "collapsed": false,
    "pycharm": {
     "name": "#%%\n"
    }
   }
  },
  {
   "cell_type": "code",
   "execution_count": 16,
   "outputs": [],
   "source": [
    "def normalize_text(text):\n",
    "    if type(text) == str:\n",
    "        return text\n",
    "\n",
    "    for a in text:\n",
    "        if type(a) == str:\n",
    "            return a\n",
    "\n",
    "    return \"\""
   ],
   "metadata": {
    "collapsed": false,
    "pycharm": {
     "name": "#%%\n"
    }
   }
  },
  {
   "cell_type": "code",
   "execution_count": 24,
   "outputs": [],
   "source": [
    "def union_nd(a: dict, b: dict):\n",
    "    \"\"\"\n",
    "    Мерджит словари. Ну то есть если у нас есть словарик\n",
    "    где ключ - пользователь, а значение другой словарик,\n",
    "    то мы вернем словарик склееных \"словарей нижнего уровня\"\n",
    "    :param a:\n",
    "    :param b:\n",
    "    \"\"\"\n",
    "    if type(a.values().__iter__().__next__()) == dict:\n",
    "        a = reduce(union_nd, a.values())\n",
    "\n",
    "    if type(b.values().__iter__().__next__()) == dict:\n",
    "        b = reduce(union_nd, b.values())\n",
    "\n",
    "    res = {}\n",
    "\n",
    "    keys = set(a.keys()).union(set(b.keys()))\n",
    "\n",
    "    for k in keys:\n",
    "        if k in a:\n",
    "            res[k] = res.get(k, 0) + a[k]\n",
    "\n",
    "        if k in b:\n",
    "            res[k] = res.get(k, 0) + b[k]\n",
    "\n",
    "    return res"
   ],
   "metadata": {
    "collapsed": false,
    "pycharm": {
     "name": "#%%\n"
    }
   }
  },
  {
   "cell_type": "code",
   "execution_count": 32,
   "outputs": [],
   "source": [
    "for msg in raw_data[\"messages\"]:\n",
    "    if \"text\" in msg:\n",
    "        msg[\"text\"] = normalize_text(msg[\"text\"])\n",
    "\n",
    "    if \"from\" not in msg:\n",
    "        continue\n",
    "\n",
    "    if msg[\"from\"] not in user_msg_freq_by_hour:\n",
    "        user_msg_freq_by_hour[msg[\"from\"]] = Counter()\n",
    "\n",
    "    user_msg_freq_by_hour[msg[\"from\"]][datetime.fromisoformat(msg[\"date\"]).hour] += 1\n",
    "\n",
    "    if msg[\"from\"] not in user_msg_type:\n",
    "        user_msg_type[msg[\"from\"]] = Counter()\n",
    "\n",
    "    if \"media_type\" in msg:\n",
    "        user_msg_type[msg[\"from\"]][msg[\"media_type\"]] += 1\n",
    "    else:\n",
    "        user_msg_type[msg[\"from\"]][\"text\"] += 1\n",
    "\n",
    "    if msg[\"from\"] not in user_msg_word_freq:\n",
    "        user_msg_word_freq[msg[\"from\"]] = Counter()\n",
    "\n",
    "    if msg[\"from\"] not in user_msg_normalized_word_freq:\n",
    "        user_msg_normalized_word_freq[msg[\"from\"]] = Counter()\n",
    "\n",
    "    if \"text\" in msg:\n",
    "        for token in list(map(lambda x: x.rstrip().rstrip(\"\\n\"), msg[\"text\"].split())):\n",
    "            user_msg_word_freq[msg[\"from\"]][token] += 1\n",
    "            try:\n",
    "                user_msg_normalized_word_freq[msg[\"from\"]][morph.parse(token)[0].normal_form] += 1\n",
    "            except:\n",
    "                continue\n",
    "\n",
    "    if msg[\"from\"] not in user_msg_count:\n",
    "        user_msg_count[msg[\"from\"]] = 0\n",
    "\n",
    "    user_msg_count[msg[\"from\"]] += 1\n",
    "\n",
    "    if \"text\" in msg:\n",
    "        if msg[\"from\"] not in user_char_count:\n",
    "            user_char_count[msg[\"from\"]] = 0\n",
    "\n",
    "        user_char_count[msg[\"from\"]] += len(msg[\"text\"])"
   ],
   "metadata": {
    "collapsed": false,
    "pycharm": {
     "name": "#%%\n"
    }
   }
  },
  {
   "cell_type": "code",
   "execution_count": 33,
   "outputs": [],
   "source": [
    "# В этих словарях те же данные, но не отдельно по пользователю, а общие по чату\n",
    "msg_freq_by_hour = reduce(union_nd, user_msg_freq_by_hour.values())\n",
    "msg_type = reduce(union_nd, user_msg_type.values())\n",
    "msg_word_freq = reduce(union_nd, user_msg_word_freq.values())\n",
    "msg_normalized_word_freq = reduce(union_nd, user_msg_normalized_word_freq.values())"
   ],
   "metadata": {
    "collapsed": false,
    "pycharm": {
     "name": "#%%\n"
    }
   }
  }
 ],
 "metadata": {
  "kernelspec": {
   "display_name": "Python 3",
   "language": "python",
   "name": "python3"
  },
  "language_info": {
   "codemirror_mode": {
    "name": "ipython",
    "version": 2
   },
   "file_extension": ".py",
   "mimetype": "text/x-python",
   "name": "python",
   "nbconvert_exporter": "python",
   "pygments_lexer": "ipython2",
   "version": "2.7.6"
  }
 },
 "nbformat": 4,
 "nbformat_minor": 0
}